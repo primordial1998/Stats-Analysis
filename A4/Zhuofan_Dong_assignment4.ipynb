{
 "cells": [
  {
   "cell_type": "code",
   "execution_count": 438,
   "id": "d58ce83e",
   "metadata": {},
   "outputs": [
    {
     "data": {
      "text/plain": [
       "'C:\\\\Users\\\\dzfal'"
      ]
     },
     "execution_count": 438,
     "metadata": {},
     "output_type": "execute_result"
    }
   ],
   "source": [
    "import os\n",
    "os.getcwd()"
   ]
  },
  {
   "cell_type": "code",
   "execution_count": 439,
   "id": "4dda5c33",
   "metadata": {},
   "outputs": [],
   "source": [
    "import pandas as pd\n",
    "import numpy as np"
   ]
  },
  {
   "cell_type": "code",
   "execution_count": 440,
   "id": "c854d284",
   "metadata": {},
   "outputs": [
    {
     "data": {
      "text/html": [
       "<div>\n",
       "<style scoped>\n",
       "    .dataframe tbody tr th:only-of-type {\n",
       "        vertical-align: middle;\n",
       "    }\n",
       "\n",
       "    .dataframe tbody tr th {\n",
       "        vertical-align: top;\n",
       "    }\n",
       "\n",
       "    .dataframe thead th {\n",
       "        text-align: right;\n",
       "    }\n",
       "</style>\n",
       "<table border=\"1\" class=\"dataframe\">\n",
       "  <thead>\n",
       "    <tr style=\"text-align: right;\">\n",
       "      <th></th>\n",
       "      <th>Year</th>\n",
       "      <th>Month</th>\n",
       "      <th>CPI</th>\n",
       "      <th>IJC</th>\n",
       "    </tr>\n",
       "  </thead>\n",
       "  <tbody>\n",
       "    <tr>\n",
       "      <th>0</th>\n",
       "      <td>2012</td>\n",
       "      <td>JAN</td>\n",
       "      <td>227.842</td>\n",
       "      <td>372000</td>\n",
       "    </tr>\n",
       "    <tr>\n",
       "      <th>1</th>\n",
       "      <td>2012</td>\n",
       "      <td>FEB</td>\n",
       "      <td>228.329</td>\n",
       "      <td>365000</td>\n",
       "    </tr>\n",
       "    <tr>\n",
       "      <th>2</th>\n",
       "      <td>2012</td>\n",
       "      <td>MAR</td>\n",
       "      <td>228.807</td>\n",
       "      <td>358000</td>\n",
       "    </tr>\n",
       "    <tr>\n",
       "      <th>3</th>\n",
       "      <td>2012</td>\n",
       "      <td>APR</td>\n",
       "      <td>229.187</td>\n",
       "      <td>372000</td>\n",
       "    </tr>\n",
       "    <tr>\n",
       "      <th>4</th>\n",
       "      <td>2012</td>\n",
       "      <td>MAY</td>\n",
       "      <td>228.713</td>\n",
       "      <td>381000</td>\n",
       "    </tr>\n",
       "    <tr>\n",
       "      <th>...</th>\n",
       "      <td>...</td>\n",
       "      <td>...</td>\n",
       "      <td>...</td>\n",
       "      <td>...</td>\n",
       "    </tr>\n",
       "    <tr>\n",
       "      <th>124</th>\n",
       "      <td>2022</td>\n",
       "      <td>MAY</td>\n",
       "      <td>291.474</td>\n",
       "      <td>202000</td>\n",
       "    </tr>\n",
       "    <tr>\n",
       "      <th>125</th>\n",
       "      <td>2022</td>\n",
       "      <td>JUN</td>\n",
       "      <td>295.328</td>\n",
       "      <td>231000</td>\n",
       "    </tr>\n",
       "    <tr>\n",
       "      <th>126</th>\n",
       "      <td>2022</td>\n",
       "      <td>JUL</td>\n",
       "      <td>295.271</td>\n",
       "      <td>248000</td>\n",
       "    </tr>\n",
       "    <tr>\n",
       "      <th>127</th>\n",
       "      <td>2022</td>\n",
       "      <td>AUG</td>\n",
       "      <td>295.620</td>\n",
       "      <td>228000</td>\n",
       "    </tr>\n",
       "    <tr>\n",
       "      <th>128</th>\n",
       "      <td>2022</td>\n",
       "      <td>SEP</td>\n",
       "      <td>296.761</td>\n",
       "      <td>190000</td>\n",
       "    </tr>\n",
       "  </tbody>\n",
       "</table>\n",
       "<p>129 rows × 4 columns</p>\n",
       "</div>"
      ],
      "text/plain": [
       "     Year Month      CPI     IJC\n",
       "0    2012   JAN  227.842  372000\n",
       "1    2012   FEB  228.329  365000\n",
       "2    2012   MAR  228.807  358000\n",
       "3    2012   APR  229.187  372000\n",
       "4    2012   MAY  228.713  381000\n",
       "..    ...   ...      ...     ...\n",
       "124  2022   MAY  291.474  202000\n",
       "125  2022   JUN  295.328  231000\n",
       "126  2022   JUL  295.271  248000\n",
       "127  2022   AUG  295.620  228000\n",
       "128  2022   SEP  296.761  190000\n",
       "\n",
       "[129 rows x 4 columns]"
      ]
     },
     "execution_count": 440,
     "metadata": {},
     "output_type": "execute_result"
    }
   ],
   "source": [
    "data = pd.read_excel(r'OneDrive\\Desktop\\CPI_IJC_2012_2022.xlsx')\n",
    "data"
   ]
  },
  {
   "cell_type": "code",
   "execution_count": 441,
   "id": "fd37d1ff",
   "metadata": {},
   "outputs": [],
   "source": [
    "data.loc[data['Year'] < 2020, 'Period'] = 1\n",
    "data.loc[data['Year'] == 2020, 'Period'] = 2\n",
    "data.loc[data['Year'] > 2020, 'Period'] = 3\n",
    "data['Period'] = data['Period'].astype(int)"
   ]
  },
  {
   "cell_type": "code",
   "execution_count": 442,
   "id": "ade9d563",
   "metadata": {},
   "outputs": [
    {
     "data": {
      "text/html": [
       "<div>\n",
       "<style scoped>\n",
       "    .dataframe tbody tr th:only-of-type {\n",
       "        vertical-align: middle;\n",
       "    }\n",
       "\n",
       "    .dataframe tbody tr th {\n",
       "        vertical-align: top;\n",
       "    }\n",
       "\n",
       "    .dataframe thead th {\n",
       "        text-align: right;\n",
       "    }\n",
       "</style>\n",
       "<table border=\"1\" class=\"dataframe\">\n",
       "  <thead>\n",
       "    <tr style=\"text-align: right;\">\n",
       "      <th></th>\n",
       "      <th>Year</th>\n",
       "      <th>Month</th>\n",
       "      <th>CPI</th>\n",
       "      <th>IJC</th>\n",
       "      <th>Period</th>\n",
       "    </tr>\n",
       "  </thead>\n",
       "  <tbody>\n",
       "    <tr>\n",
       "      <th>0</th>\n",
       "      <td>2012</td>\n",
       "      <td>JAN</td>\n",
       "      <td>227.842</td>\n",
       "      <td>372000</td>\n",
       "      <td>1</td>\n",
       "    </tr>\n",
       "    <tr>\n",
       "      <th>1</th>\n",
       "      <td>2012</td>\n",
       "      <td>FEB</td>\n",
       "      <td>228.329</td>\n",
       "      <td>365000</td>\n",
       "      <td>1</td>\n",
       "    </tr>\n",
       "    <tr>\n",
       "      <th>2</th>\n",
       "      <td>2012</td>\n",
       "      <td>MAR</td>\n",
       "      <td>228.807</td>\n",
       "      <td>358000</td>\n",
       "      <td>1</td>\n",
       "    </tr>\n",
       "    <tr>\n",
       "      <th>3</th>\n",
       "      <td>2012</td>\n",
       "      <td>APR</td>\n",
       "      <td>229.187</td>\n",
       "      <td>372000</td>\n",
       "      <td>1</td>\n",
       "    </tr>\n",
       "    <tr>\n",
       "      <th>4</th>\n",
       "      <td>2012</td>\n",
       "      <td>MAY</td>\n",
       "      <td>228.713</td>\n",
       "      <td>381000</td>\n",
       "      <td>1</td>\n",
       "    </tr>\n",
       "    <tr>\n",
       "      <th>...</th>\n",
       "      <td>...</td>\n",
       "      <td>...</td>\n",
       "      <td>...</td>\n",
       "      <td>...</td>\n",
       "      <td>...</td>\n",
       "    </tr>\n",
       "    <tr>\n",
       "      <th>124</th>\n",
       "      <td>2022</td>\n",
       "      <td>MAY</td>\n",
       "      <td>291.474</td>\n",
       "      <td>202000</td>\n",
       "      <td>3</td>\n",
       "    </tr>\n",
       "    <tr>\n",
       "      <th>125</th>\n",
       "      <td>2022</td>\n",
       "      <td>JUN</td>\n",
       "      <td>295.328</td>\n",
       "      <td>231000</td>\n",
       "      <td>3</td>\n",
       "    </tr>\n",
       "    <tr>\n",
       "      <th>126</th>\n",
       "      <td>2022</td>\n",
       "      <td>JUL</td>\n",
       "      <td>295.271</td>\n",
       "      <td>248000</td>\n",
       "      <td>3</td>\n",
       "    </tr>\n",
       "    <tr>\n",
       "      <th>127</th>\n",
       "      <td>2022</td>\n",
       "      <td>AUG</td>\n",
       "      <td>295.620</td>\n",
       "      <td>228000</td>\n",
       "      <td>3</td>\n",
       "    </tr>\n",
       "    <tr>\n",
       "      <th>128</th>\n",
       "      <td>2022</td>\n",
       "      <td>SEP</td>\n",
       "      <td>296.761</td>\n",
       "      <td>190000</td>\n",
       "      <td>3</td>\n",
       "    </tr>\n",
       "  </tbody>\n",
       "</table>\n",
       "<p>129 rows × 5 columns</p>\n",
       "</div>"
      ],
      "text/plain": [
       "     Year Month      CPI     IJC  Period\n",
       "0    2012   JAN  227.842  372000       1\n",
       "1    2012   FEB  228.329  365000       1\n",
       "2    2012   MAR  228.807  358000       1\n",
       "3    2012   APR  229.187  372000       1\n",
       "4    2012   MAY  228.713  381000       1\n",
       "..    ...   ...      ...     ...     ...\n",
       "124  2022   MAY  291.474  202000       3\n",
       "125  2022   JUN  295.328  231000       3\n",
       "126  2022   JUL  295.271  248000       3\n",
       "127  2022   AUG  295.620  228000       3\n",
       "128  2022   SEP  296.761  190000       3\n",
       "\n",
       "[129 rows x 5 columns]"
      ]
     },
     "execution_count": 442,
     "metadata": {},
     "output_type": "execute_result"
    }
   ],
   "source": [
    "data"
   ]
  },
  {
   "cell_type": "markdown",
   "id": "7712b7be",
   "metadata": {},
   "source": [
    "## Question 1"
   ]
  },
  {
   "cell_type": "code",
   "execution_count": 443,
   "id": "30f098ec",
   "metadata": {},
   "outputs": [],
   "source": [
    "col = [\"CPI\", \"IJC\"]\n",
    "data_cp = data[col]"
   ]
  },
  {
   "cell_type": "code",
   "execution_count": 444,
   "id": "2b06370a",
   "metadata": {},
   "outputs": [
    {
     "data": {
      "text/html": [
       "<div>\n",
       "<style scoped>\n",
       "    .dataframe tbody tr th:only-of-type {\n",
       "        vertical-align: middle;\n",
       "    }\n",
       "\n",
       "    .dataframe tbody tr th {\n",
       "        vertical-align: top;\n",
       "    }\n",
       "\n",
       "    .dataframe thead th {\n",
       "        text-align: right;\n",
       "    }\n",
       "</style>\n",
       "<table border=\"1\" class=\"dataframe\">\n",
       "  <thead>\n",
       "    <tr style=\"text-align: right;\">\n",
       "      <th></th>\n",
       "      <th>CPI</th>\n",
       "      <th>IJC</th>\n",
       "    </tr>\n",
       "  </thead>\n",
       "  <tbody>\n",
       "    <tr>\n",
       "      <th>0</th>\n",
       "      <td>227.842</td>\n",
       "      <td>372000</td>\n",
       "    </tr>\n",
       "    <tr>\n",
       "      <th>1</th>\n",
       "      <td>228.329</td>\n",
       "      <td>365000</td>\n",
       "    </tr>\n",
       "    <tr>\n",
       "      <th>2</th>\n",
       "      <td>228.807</td>\n",
       "      <td>358000</td>\n",
       "    </tr>\n",
       "    <tr>\n",
       "      <th>3</th>\n",
       "      <td>229.187</td>\n",
       "      <td>372000</td>\n",
       "    </tr>\n",
       "    <tr>\n",
       "      <th>4</th>\n",
       "      <td>228.713</td>\n",
       "      <td>381000</td>\n",
       "    </tr>\n",
       "    <tr>\n",
       "      <th>...</th>\n",
       "      <td>...</td>\n",
       "      <td>...</td>\n",
       "    </tr>\n",
       "    <tr>\n",
       "      <th>124</th>\n",
       "      <td>291.474</td>\n",
       "      <td>202000</td>\n",
       "    </tr>\n",
       "    <tr>\n",
       "      <th>125</th>\n",
       "      <td>295.328</td>\n",
       "      <td>231000</td>\n",
       "    </tr>\n",
       "    <tr>\n",
       "      <th>126</th>\n",
       "      <td>295.271</td>\n",
       "      <td>248000</td>\n",
       "    </tr>\n",
       "    <tr>\n",
       "      <th>127</th>\n",
       "      <td>295.620</td>\n",
       "      <td>228000</td>\n",
       "    </tr>\n",
       "    <tr>\n",
       "      <th>128</th>\n",
       "      <td>296.761</td>\n",
       "      <td>190000</td>\n",
       "    </tr>\n",
       "  </tbody>\n",
       "</table>\n",
       "<p>129 rows × 2 columns</p>\n",
       "</div>"
      ],
      "text/plain": [
       "         CPI     IJC\n",
       "0    227.842  372000\n",
       "1    228.329  365000\n",
       "2    228.807  358000\n",
       "3    229.187  372000\n",
       "4    228.713  381000\n",
       "..       ...     ...\n",
       "124  291.474  202000\n",
       "125  295.328  231000\n",
       "126  295.271  248000\n",
       "127  295.620  228000\n",
       "128  296.761  190000\n",
       "\n",
       "[129 rows x 2 columns]"
      ]
     },
     "execution_count": 444,
     "metadata": {},
     "output_type": "execute_result"
    }
   ],
   "source": [
    "data_cp"
   ]
  },
  {
   "cell_type": "code",
   "execution_count": 445,
   "id": "5d6e914e",
   "metadata": {},
   "outputs": [
    {
     "data": {
      "text/html": [
       "<div>\n",
       "<style scoped>\n",
       "    .dataframe tbody tr th:only-of-type {\n",
       "        vertical-align: middle;\n",
       "    }\n",
       "\n",
       "    .dataframe tbody tr th {\n",
       "        vertical-align: top;\n",
       "    }\n",
       "\n",
       "    .dataframe thead th {\n",
       "        text-align: right;\n",
       "    }\n",
       "</style>\n",
       "<table border=\"1\" class=\"dataframe\">\n",
       "  <thead>\n",
       "    <tr style=\"text-align: right;\">\n",
       "      <th></th>\n",
       "      <th>CPI</th>\n",
       "      <th>IJC</th>\n",
       "      <th>Period</th>\n",
       "    </tr>\n",
       "  </thead>\n",
       "  <tbody>\n",
       "    <tr>\n",
       "      <th>0</th>\n",
       "      <td>5.428652</td>\n",
       "      <td>12.826649</td>\n",
       "      <td>1</td>\n",
       "    </tr>\n",
       "    <tr>\n",
       "      <th>1</th>\n",
       "      <td>5.430788</td>\n",
       "      <td>12.807653</td>\n",
       "      <td>1</td>\n",
       "    </tr>\n",
       "    <tr>\n",
       "      <th>2</th>\n",
       "      <td>5.432879</td>\n",
       "      <td>12.788288</td>\n",
       "      <td>1</td>\n",
       "    </tr>\n",
       "    <tr>\n",
       "      <th>3</th>\n",
       "      <td>5.434538</td>\n",
       "      <td>12.826649</td>\n",
       "      <td>1</td>\n",
       "    </tr>\n",
       "    <tr>\n",
       "      <th>4</th>\n",
       "      <td>5.432468</td>\n",
       "      <td>12.850555</td>\n",
       "      <td>1</td>\n",
       "    </tr>\n",
       "    <tr>\n",
       "      <th>...</th>\n",
       "      <td>...</td>\n",
       "      <td>...</td>\n",
       "      <td>...</td>\n",
       "    </tr>\n",
       "    <tr>\n",
       "      <th>124</th>\n",
       "      <td>5.674951</td>\n",
       "      <td>12.216023</td>\n",
       "      <td>3</td>\n",
       "    </tr>\n",
       "    <tr>\n",
       "      <th>125</th>\n",
       "      <td>5.688087</td>\n",
       "      <td>12.350173</td>\n",
       "      <td>3</td>\n",
       "    </tr>\n",
       "    <tr>\n",
       "      <th>126</th>\n",
       "      <td>5.687894</td>\n",
       "      <td>12.421184</td>\n",
       "      <td>3</td>\n",
       "    </tr>\n",
       "    <tr>\n",
       "      <th>127</th>\n",
       "      <td>5.689075</td>\n",
       "      <td>12.337101</td>\n",
       "      <td>3</td>\n",
       "    </tr>\n",
       "    <tr>\n",
       "      <th>128</th>\n",
       "      <td>5.692927</td>\n",
       "      <td>12.154779</td>\n",
       "      <td>3</td>\n",
       "    </tr>\n",
       "  </tbody>\n",
       "</table>\n",
       "<p>129 rows × 3 columns</p>\n",
       "</div>"
      ],
      "text/plain": [
       "          CPI        IJC  Period\n",
       "0    5.428652  12.826649       1\n",
       "1    5.430788  12.807653       1\n",
       "2    5.432879  12.788288       1\n",
       "3    5.434538  12.826649       1\n",
       "4    5.432468  12.850555       1\n",
       "..        ...        ...     ...\n",
       "124  5.674951  12.216023       3\n",
       "125  5.688087  12.350173       3\n",
       "126  5.687894  12.421184       3\n",
       "127  5.689075  12.337101       3\n",
       "128  5.692927  12.154779       3\n",
       "\n",
       "[129 rows x 3 columns]"
      ]
     },
     "execution_count": 445,
     "metadata": {},
     "output_type": "execute_result"
    }
   ],
   "source": [
    "data_cp= np.log(data_cp)\n",
    "data_cp[\"Period\"] = data[\"Period\"]\n",
    "data_cp"
   ]
  },
  {
   "cell_type": "code",
   "execution_count": 446,
   "id": "b0b32ee7",
   "metadata": {},
   "outputs": [
    {
     "data": {
      "image/png": "[encoded data removed]",
      "text/plain": [
       "<Figure size 640x480 with 1 Axes>"
      ]
     },
     "metadata": {},
     "output_type": "display_data"
    }
   ],
   "source": [
    "import matplotlib.pyplot as plt\n",
    "\n",
    "u, inv = np.unique(data_cp.Period.values, return_inverse=True)\n",
    "\n",
    "scatter = plt.scatter(data_cp[\"CPI\"], data_cp[\"IJC\"], c=inv)\n",
    "plt.legend(scatter.legend_elements()[0], u, loc=2)\n",
    "plt.xlabel(\"CPI\")\n",
    "plt.ylabel(\"IJC\")\n",
    "plt.grid()\n",
    "plt.show()"
   ]
  },
  {
   "cell_type": "markdown",
   "id": "8830a42e",
   "metadata": {},
   "source": [
    "## Question 2"
   ]
  },
  {
   "cell_type": "code",
   "execution_count": 447,
   "id": "b9fcef9c",
   "metadata": {},
   "outputs": [],
   "source": [
    "def SWEEPOperator (pDim, inputM, origDiag, sweepCol = None, tol = 1e-7):\n",
    "    ''' Implement the SWEEP operator\n",
    "    Parameter\n",
    "    ---------\n",
    "    pDim: dimension of matrix inputM, integer greater than one\n",
    "    inputM: a square and symmetric matrix, np array\n",
    "    origDiag: the original diagonal elements before any SWEEPing\n",
    "    sweepCol: a list of columns numbers to SWEEP\n",
    "    tol: singularity tolerance, positive real\n",
    "    Return\n",
    "    ------\n",
    "    A: negative of a generalized inverse of input matrix\n",
    "    aliasParam: a list of aliased rows/columns in input matrix\n",
    "    nonAliasParam: a list of non-aliased rows/columns in input matrix\n",
    "    '''\n",
    "    if (sweepCol is None):\n",
    "        sweepCol = range(pDim)\n",
    "    aliasParam = []\n",
    "    nonAliasParam = []\n",
    "    A = np.copy(inputM)\n",
    "    ANext = np.zeros((pDim,pDim))\n",
    "    for k in sweepCol:\n",
    "        Akk = A[k,k]\n",
    "        pivot = tol * abs(origDiag[k])\n",
    "        if (not np.isinf(Akk) and abs(Akk) >= pivot and pivot > 0.0):\n",
    "            nonAliasParam.append(k)\n",
    "            ANext = A - np.outer(A[:, k], A[k, :]) / Akk\n",
    "            ANext[:, k] = A[:, k] / abs(Akk)\n",
    "            ANext[k, :] = ANext[:, k]\n",
    "            ANext[k, k] = -1.0 / Akk\n",
    "        else:\n",
    "            aliasParam.append(k)\n",
    "            ANext[:,k] = np.zeros(pDim)\n",
    "            ANext[k, :] = np.zeros(pDim)\n",
    "        A = ANext\n",
    "    return (A, aliasParam, nonAliasParam)\n",
    "\n",
    "def LinearRegression (X, y):\n",
    "    ''' Train a linear regression model\n",
    "    Parameter\n",
    "    ---------\n",
    "    X: A pd DataFrame, rows are observations, columns are regressors\n",
    "    y: A pd Series, rows are observations of the response variable\n",
    "    Return\n",
    "    ------\n",
    "    A list of the following entities:\n",
    "    1. b: an array of regression coefficient\n",
    "    2. residual_SS: residual sum of squares\n",
    "    3. XtX_Ginv: a generalized inverse of the XtX matrix\n",
    "    4. aliasParam: a list of aliased rows/columns in input matrix\n",
    "    5. nonAliasParam: a list of non-aliased rows/columns in input matrix\n",
    "    '''\n",
    "    # X: A pd DataFrame, rows are observations, columns are regressors\n",
    "    # y: A pd Series, rows are observations of the response variable\n",
    "    Z = X.join(y)\n",
    "    n_sample = Z.shape[0]\n",
    "    n_param = Z.shape[1] - 1\n",
    "    ZtZ = Z.transpose().dot(Z)\n",
    "    diag_ZtZ = np.diagonal(ZtZ)\n",
    "    eps_double = np.finfo(np.float64).eps\n",
    "    tol = np.sqrt(eps_double)\n",
    "    ZtZ_transf, aliasParam, nonAliasParam = SWEEPOperator ((n_param+1), ZtZ, diag_ZtZ, sweepCol = range(n_param), tol = tol)\n",
    "    b = ZtZ_transf[0:n_param, n_param]\n",
    "    b[aliasParam] = 0.0\n",
    "    XtX_Ginv = - ZtZ_transf[0:n_param, 0:n_param]\n",
    "    XtX_Ginv[:, aliasParam] = 0.0\n",
    "    XtX_Ginv[aliasParam, :] = 0.0\n",
    "    residual_SS = ZtZ_transf[n_param, n_param]\n",
    "    return ([b, residual_SS, XtX_Ginv, aliasParam, nonAliasParam])"
   ]
  },
  {
   "cell_type": "code",
   "execution_count": 448,
   "id": "78b231a2",
   "metadata": {},
   "outputs": [],
   "source": [
    "X = pd.get_dummies(data_cp[['Period']].astype('category'))\n",
    "X = X.iloc[:,[2,1,0]]\n",
    "X = X.join(data_cp[['CPI']])\n",
    "X.insert(0, 'Intercept', 1)\n",
    "y = data_cp['IJC']\n",
    "result_list = LinearRegression(X, y)\n",
    "# Label the output properly\n",
    "parameter_name = X.columns\n",
    "estimate = pd.Series(result_list[0], index = parameter_name)\n",
    "residual_SS = result_list[1]\n",
    "cov_matrix = pd.DataFrame(result_list[2], index = parameter_name, columns = parameter_name)"
   ]
  },
  {
   "cell_type": "code",
   "execution_count": 449,
   "id": "5d6c215a",
   "metadata": {},
   "outputs": [
    {
     "data": {
      "text/plain": [
       "12.81199636652066"
      ]
     },
     "execution_count": 449,
     "metadata": {},
     "output_type": "execute_result"
    }
   ],
   "source": [
    "residual_SS"
   ]
  },
  {
   "cell_type": "code",
   "execution_count": 450,
   "id": "3429af3e",
   "metadata": {},
   "outputs": [
    {
     "data": {
      "text/plain": [
       "Intercept    47.376556\n",
       "Period_3      1.055882\n",
       "Period_2      1.717105\n",
       "Period_1      0.000000\n",
       "CPI          -6.354338\n",
       "dtype: float64"
      ]
     },
     "execution_count": 450,
     "metadata": {},
     "output_type": "execute_result"
    }
   ],
   "source": [
    "estimate"
   ]
  },
  {
   "cell_type": "code",
   "execution_count": 451,
   "id": "113b9593",
   "metadata": {},
   "outputs": [
    {
     "data": {
      "text/html": [
       "<div>\n",
       "<style scoped>\n",
       "    .dataframe tbody tr th:only-of-type {\n",
       "        vertical-align: middle;\n",
       "    }\n",
       "\n",
       "    .dataframe tbody tr th {\n",
       "        vertical-align: top;\n",
       "    }\n",
       "\n",
       "    .dataframe thead th {\n",
       "        text-align: right;\n",
       "    }\n",
       "</style>\n",
       "<table border=\"1\" class=\"dataframe\">\n",
       "  <thead>\n",
       "    <tr style=\"text-align: right;\">\n",
       "      <th></th>\n",
       "      <th>Intercept</th>\n",
       "      <th>Period_3</th>\n",
       "      <th>Period_2</th>\n",
       "      <th>Period_1</th>\n",
       "      <th>CPI</th>\n",
       "    </tr>\n",
       "  </thead>\n",
       "  <tbody>\n",
       "    <tr>\n",
       "      <th>Intercept</th>\n",
       "      <td>198.012847</td>\n",
       "      <td>5.325266</td>\n",
       "      <td>2.586715</td>\n",
       "      <td>0.0</td>\n",
       "      <td>-36.103852</td>\n",
       "    </tr>\n",
       "    <tr>\n",
       "      <th>Period_3</th>\n",
       "      <td>5.325266</td>\n",
       "      <td>0.201819</td>\n",
       "      <td>0.080403</td>\n",
       "      <td>0.0</td>\n",
       "      <td>-0.972911</td>\n",
       "    </tr>\n",
       "    <tr>\n",
       "      <th>Period_2</th>\n",
       "      <td>2.586715</td>\n",
       "      <td>0.080403</td>\n",
       "      <td>0.127816</td>\n",
       "      <td>0.0</td>\n",
       "      <td>-0.473562</td>\n",
       "    </tr>\n",
       "    <tr>\n",
       "      <th>Period_1</th>\n",
       "      <td>0.000000</td>\n",
       "      <td>0.000000</td>\n",
       "      <td>0.000000</td>\n",
       "      <td>0.0</td>\n",
       "      <td>0.000000</td>\n",
       "    </tr>\n",
       "    <tr>\n",
       "      <th>CPI</th>\n",
       "      <td>-36.103852</td>\n",
       "      <td>-0.972911</td>\n",
       "      <td>-0.473562</td>\n",
       "      <td>0.0</td>\n",
       "      <td>6.583193</td>\n",
       "    </tr>\n",
       "  </tbody>\n",
       "</table>\n",
       "</div>"
      ],
      "text/plain": [
       "            Intercept  Period_3  Period_2  Period_1        CPI\n",
       "Intercept  198.012847  5.325266  2.586715       0.0 -36.103852\n",
       "Period_3     5.325266  0.201819  0.080403       0.0  -0.972911\n",
       "Period_2     2.586715  0.080403  0.127816       0.0  -0.473562\n",
       "Period_1     0.000000  0.000000  0.000000       0.0   0.000000\n",
       "CPI        -36.103852 -0.972911 -0.473562       0.0   6.583193"
      ]
     },
     "execution_count": 451,
     "metadata": {},
     "output_type": "execute_result"
    }
   ],
   "source": [
    "cov_matrix"
   ]
  },
  {
   "cell_type": "markdown",
   "id": "52c173e7",
   "metadata": {},
   "source": [
    "**Standard error should be the squareroot of the variance of the coefficients, which locate in the diagonal of the covariance matrix**"
   ]
  },
  {
   "cell_type": "code",
   "execution_count": 452,
   "id": "a21c47cf",
   "metadata": {},
   "outputs": [
    {
     "name": "stdout",
     "output_type": "stream",
     "text": [
      "The standard error of the coefficient of  Intercept  is:  14.071703783412302\n",
      "The standard error of the coefficient of  Period_3  is:  0.4492431158419582\n",
      "The standard error of the coefficient of  Period_2  is:  0.3575132227254053\n",
      "The standard error of the coefficient of  Period_1  is:  0.0\n",
      "The standard error of the coefficient of  CPI  is:  2.565773295093052\n"
     ]
    }
   ],
   "source": [
    "import math\n",
    "for i in cov_matrix.index:\n",
    "    standardError = math.sqrt(cov_matrix[i][i])\n",
    "    print(\"The standard error of the coefficient of \", i, \" is: \", standardError)"
   ]
  },
  {
   "cell_type": "markdown",
   "id": "9a6882da",
   "metadata": {},
   "source": [
    "## Question 3"
   ]
  },
  {
   "cell_type": "markdown",
   "id": "2587cdfc",
   "metadata": {},
   "source": [
    "**Use the definition**"
   ]
  },
  {
   "cell_type": "code",
   "execution_count": 453,
   "id": "1ccf9561",
   "metadata": {},
   "outputs": [],
   "source": [
    "def tss(a):\n",
    "    m = a.mean()\n",
    "    n = 0\n",
    "    for i in a:\n",
    "        n += ((i-m)**2)\n",
    "    return (n)"
   ]
  },
  {
   "cell_type": "code",
   "execution_count": 454,
   "id": "8170c4bf",
   "metadata": {},
   "outputs": [
    {
     "data": {
      "text/plain": [
       "0.6430150381336952"
      ]
     },
     "execution_count": 454,
     "metadata": {},
     "output_type": "execute_result"
    }
   ],
   "source": [
    "1 - (residual_SS/tss(y))"
   ]
  },
  {
   "cell_type": "markdown",
   "id": "42119bbd",
   "metadata": {},
   "source": [
    "**Use the sklearn package**"
   ]
  },
  {
   "cell_type": "code",
   "execution_count": 455,
   "id": "1f50aa38",
   "metadata": {
    "scrolled": true
   },
   "outputs": [
    {
     "data": {
      "text/plain": [
       "0.6430150381274364"
      ]
     },
     "execution_count": 455,
     "metadata": {},
     "output_type": "execute_result"
    }
   ],
   "source": [
    "from sklearn.linear_model import LinearRegression\n",
    "#initiate linear regression model\n",
    "model = LinearRegression()\n",
    "#fit regression model\n",
    "model.fit(X, y)\n",
    "#calculate R-squared of regression model\n",
    "r_squared = model.score(X, y)\n",
    "r_squared"
   ]
  },
  {
   "cell_type": "markdown",
   "id": "1a120108",
   "metadata": {},
   "source": [
    "**The answer of these two methods agrees with each other**"
   ]
  },
  {
   "cell_type": "markdown",
   "id": "28f6a456",
   "metadata": {},
   "source": [
    "## Question 4"
   ]
  },
  {
   "cell_type": "code",
   "execution_count": 456,
   "id": "f3a6cf41",
   "metadata": {},
   "outputs": [],
   "source": [
    "from scipy.stats import f"
   ]
  },
  {
   "cell_type": "code",
   "execution_count": 457,
   "id": "797ac3e7",
   "metadata": {},
   "outputs": [
    {
     "data": {
      "text/html": [
       "<div>\n",
       "<style scoped>\n",
       "    .dataframe tbody tr th:only-of-type {\n",
       "        vertical-align: middle;\n",
       "    }\n",
       "\n",
       "    .dataframe tbody tr th {\n",
       "        vertical-align: top;\n",
       "    }\n",
       "\n",
       "    .dataframe thead th {\n",
       "        text-align: right;\n",
       "    }\n",
       "</style>\n",
       "<table border=\"1\" class=\"dataframe\">\n",
       "  <thead>\n",
       "    <tr style=\"text-align: right;\">\n",
       "      <th></th>\n",
       "      <th>count</th>\n",
       "      <th>mean</th>\n",
       "      <th>std</th>\n",
       "      <th>min</th>\n",
       "      <th>25%</th>\n",
       "      <th>50%</th>\n",
       "      <th>75%</th>\n",
       "      <th>max</th>\n",
       "    </tr>\n",
       "    <tr>\n",
       "      <th>Period</th>\n",
       "      <th></th>\n",
       "      <th></th>\n",
       "      <th></th>\n",
       "      <th></th>\n",
       "      <th></th>\n",
       "      <th></th>\n",
       "      <th></th>\n",
       "      <th></th>\n",
       "    </tr>\n",
       "  </thead>\n",
       "  <tbody>\n",
       "    <tr>\n",
       "      <th>1</th>\n",
       "      <td>96.0</td>\n",
       "      <td>12.527799</td>\n",
       "      <td>0.191160</td>\n",
       "      <td>12.061047</td>\n",
       "      <td>12.385250</td>\n",
       "      <td>12.502467</td>\n",
       "      <td>12.707604</td>\n",
       "      <td>12.868761</td>\n",
       "    </tr>\n",
       "    <tr>\n",
       "      <th>2</th>\n",
       "      <td>12.0</td>\n",
       "      <td>13.787805</td>\n",
       "      <td>0.989758</td>\n",
       "      <td>12.154779</td>\n",
       "      <td>13.546112</td>\n",
       "      <td>13.637455</td>\n",
       "      <td>14.215633</td>\n",
       "      <td>15.598229</td>\n",
       "    </tr>\n",
       "    <tr>\n",
       "      <th>3</th>\n",
       "      <td>21.0</td>\n",
       "      <td>12.644592</td>\n",
       "      <td>0.484669</td>\n",
       "      <td>12.049419</td>\n",
       "      <td>12.259613</td>\n",
       "      <td>12.421184</td>\n",
       "      <td>12.933621</td>\n",
       "      <td>13.596110</td>\n",
       "    </tr>\n",
       "  </tbody>\n",
       "</table>\n",
       "</div>"
      ],
      "text/plain": [
       "        count       mean       std        min        25%        50%  \\\n",
       "Period                                                                \n",
       "1        96.0  12.527799  0.191160  12.061047  12.385250  12.502467   \n",
       "2        12.0  13.787805  0.989758  12.154779  13.546112  13.637455   \n",
       "3        21.0  12.644592  0.484669  12.049419  12.259613  12.421184   \n",
       "\n",
       "              75%        max  \n",
       "Period                        \n",
       "1       12.707604  12.868761  \n",
       "2       14.215633  15.598229  \n",
       "3       12.933621  13.596110  "
      ]
     },
     "execution_count": 457,
     "metadata": {},
     "output_type": "execute_result"
    }
   ],
   "source": [
    "summ_stat = data_cp.groupby(by = 'Period')['IJC'].describe()\n",
    "summ_stat"
   ]
  },
  {
   "cell_type": "markdown",
   "id": "0cfb60f2",
   "metadata": {},
   "source": [
    "**We can get the ANOVA table**"
   ]
  },
  {
   "cell_type": "code",
   "execution_count": 458,
   "id": "ba1e06dd",
   "metadata": {},
   "outputs": [
    {
     "name": "stdout",
     "output_type": "stream",
     "text": [
      "\n",
      "Source: Between Group\n",
      "DF =  2.0\n",
      "SS =  16.94402133029339\n",
      "MS =  8.472010665146694\n",
      "\n",
      "Source: Within Group\n",
      "DF =  126.0\n",
      "SS =  18.945435467942588\n",
      "MS =  0.1503605989519253\n",
      "\n",
      "Source: Total\n",
      "DF =  128\n",
      "SS =  35.889456798235976\n",
      "F Statistic =  56.34461903051773\n",
      "     F Sig. =  3.310362399319542e-18\n",
      "R-Square =  0.472116962526059\n"
     ]
    }
   ],
   "source": [
    "# Calculate the Within Group Sum of Squares\n",
    "n_sample = data_cp.shape[0]\n",
    "dfW = 0.0\n",
    "SSW = 0.0\n",
    "for Period in [1, 2, 3]:\n",
    "   group_stat = summ_stat.loc[Period]\n",
    "   group_count = group_stat['count']\n",
    "   group_mean = group_stat['mean']\n",
    "   group_std = group_stat['std']\n",
    "   dfW = dfW + (group_count - 1)\n",
    "   SSW = SSW + group_std * group_std * (group_count - 1)\n",
    "   \n",
    "MSW = SSW / dfW\n",
    "# Calculate the Corrected Total Sum of Squares\n",
    "overall_std = np.std(data_cp['IJC'], ddof = 1)\n",
    "dfT = n_sample - 1\n",
    "SST = overall_std * overall_std * dfT\n",
    "SSB = SST - SSW\n",
    "dfB = dfT - dfW\n",
    "MSB = SSB / dfB\n",
    "F_stat = MSB / MSW\n",
    "F_sig = f.sf(F_stat, dfB, dfW)\n",
    "print('\\nSource: Between Group')\n",
    "print('DF = ', dfB)\n",
    "print('SS = ', SSB)\n",
    "print('MS = ', MSB)\n",
    "print('\\nSource: Within Group')\n",
    "print('DF = ', dfW)\n",
    "print('SS = ', SSW)\n",
    "print('MS = ', MSW)\n",
    "print('\\nSource: Total')\n",
    "print('DF = ', dfT)\n",
    "print('SS = ', SST)\n",
    "print('F Statistic = ', F_stat)\n",
    "print('     F Sig. = ', F_sig)\n",
    "print('R-Square = ', (SSB/SST))"
   ]
  },
  {
   "attachments": {},
   "cell_type": "markdown",
   "id": "6629e773",
   "metadata": {},
   "source": [
    "**Since the F Significance value is very small, we will reject the null hypothesis. We can conclude that the population means of IJC are different among the three periods and thus $r_{i}$ is not equal to 0 for some $r_{i}$**"
   ]
  },
  {
   "cell_type": "markdown",
   "id": "eb97d451",
   "metadata": {},
   "source": [
    "## Question 5"
   ]
  },
  {
   "cell_type": "markdown",
   "id": "70738b03",
   "metadata": {},
   "source": [
    "**In this question, the residual of original data has been given in question 2, and I ran the regression again with the input variable dropped log(CPI). Then I calculated the residual of my second regression and ran the F-test to test if the residuals of these two regression are equal, because if log(CPI) does not affect the log(IJC), the residuals which can be regarded as variance should be the same.**"
   ]
  },
  {
   "cell_type": "code",
   "execution_count": 461,
   "id": "142ab5b0",
   "metadata": {},
   "outputs": [
    {
     "data": {
      "text/html": [
       "<div>\n",
       "<style scoped>\n",
       "    .dataframe tbody tr th:only-of-type {\n",
       "        vertical-align: middle;\n",
       "    }\n",
       "\n",
       "    .dataframe tbody tr th {\n",
       "        vertical-align: top;\n",
       "    }\n",
       "\n",
       "    .dataframe thead th {\n",
       "        text-align: right;\n",
       "    }\n",
       "</style>\n",
       "<table border=\"1\" class=\"dataframe\">\n",
       "  <thead>\n",
       "    <tr style=\"text-align: right;\">\n",
       "      <th></th>\n",
       "      <th>Intercept</th>\n",
       "      <th>Period_3</th>\n",
       "      <th>Period_2</th>\n",
       "      <th>Period_1</th>\n",
       "    </tr>\n",
       "  </thead>\n",
       "  <tbody>\n",
       "    <tr>\n",
       "      <th>0</th>\n",
       "      <td>1</td>\n",
       "      <td>0</td>\n",
       "      <td>0</td>\n",
       "      <td>1</td>\n",
       "    </tr>\n",
       "    <tr>\n",
       "      <th>1</th>\n",
       "      <td>1</td>\n",
       "      <td>0</td>\n",
       "      <td>0</td>\n",
       "      <td>1</td>\n",
       "    </tr>\n",
       "    <tr>\n",
       "      <th>2</th>\n",
       "      <td>1</td>\n",
       "      <td>0</td>\n",
       "      <td>0</td>\n",
       "      <td>1</td>\n",
       "    </tr>\n",
       "    <tr>\n",
       "      <th>3</th>\n",
       "      <td>1</td>\n",
       "      <td>0</td>\n",
       "      <td>0</td>\n",
       "      <td>1</td>\n",
       "    </tr>\n",
       "    <tr>\n",
       "      <th>4</th>\n",
       "      <td>1</td>\n",
       "      <td>0</td>\n",
       "      <td>0</td>\n",
       "      <td>1</td>\n",
       "    </tr>\n",
       "    <tr>\n",
       "      <th>...</th>\n",
       "      <td>...</td>\n",
       "      <td>...</td>\n",
       "      <td>...</td>\n",
       "      <td>...</td>\n",
       "    </tr>\n",
       "    <tr>\n",
       "      <th>124</th>\n",
       "      <td>1</td>\n",
       "      <td>1</td>\n",
       "      <td>0</td>\n",
       "      <td>0</td>\n",
       "    </tr>\n",
       "    <tr>\n",
       "      <th>125</th>\n",
       "      <td>1</td>\n",
       "      <td>1</td>\n",
       "      <td>0</td>\n",
       "      <td>0</td>\n",
       "    </tr>\n",
       "    <tr>\n",
       "      <th>126</th>\n",
       "      <td>1</td>\n",
       "      <td>1</td>\n",
       "      <td>0</td>\n",
       "      <td>0</td>\n",
       "    </tr>\n",
       "    <tr>\n",
       "      <th>127</th>\n",
       "      <td>1</td>\n",
       "      <td>1</td>\n",
       "      <td>0</td>\n",
       "      <td>0</td>\n",
       "    </tr>\n",
       "    <tr>\n",
       "      <th>128</th>\n",
       "      <td>1</td>\n",
       "      <td>1</td>\n",
       "      <td>0</td>\n",
       "      <td>0</td>\n",
       "    </tr>\n",
       "  </tbody>\n",
       "</table>\n",
       "<p>129 rows × 4 columns</p>\n",
       "</div>"
      ],
      "text/plain": [
       "     Intercept  Period_3  Period_2  Period_1\n",
       "0            1         0         0         1\n",
       "1            1         0         0         1\n",
       "2            1         0         0         1\n",
       "3            1         0         0         1\n",
       "4            1         0         0         1\n",
       "..         ...       ...       ...       ...\n",
       "124          1         1         0         0\n",
       "125          1         1         0         0\n",
       "126          1         1         0         0\n",
       "127          1         1         0         0\n",
       "128          1         1         0         0\n",
       "\n",
       "[129 rows x 4 columns]"
      ]
     },
     "execution_count": 461,
     "metadata": {},
     "output_type": "execute_result"
    }
   ],
   "source": [
    "X_b = X.drop(columns=[\"CPI\"])\n",
    "X_b"
   ]
  },
  {
   "cell_type": "code",
   "execution_count": 464,
   "id": "cb47b9bb",
   "metadata": {},
   "outputs": [
    {
     "data": {
      "text/plain": [
       "0      12.826649\n",
       "1      12.807653\n",
       "2      12.788288\n",
       "3      12.826649\n",
       "4      12.850555\n",
       "         ...    \n",
       "124    12.216023\n",
       "125    12.350173\n",
       "126    12.421184\n",
       "127    12.337101\n",
       "128    12.154779\n",
       "Name: IJC, Length: 129, dtype: float64"
      ]
     },
     "execution_count": 464,
     "metadata": {},
     "output_type": "execute_result"
    }
   ],
   "source": [
    "y"
   ]
  },
  {
   "cell_type": "code",
   "execution_count": 470,
   "id": "70d7af6a",
   "metadata": {},
   "outputs": [
    {
     "name": "stdout",
     "output_type": "stream",
     "text": [
      " residual sum of squares is : 18.945435467942588\n"
     ]
    }
   ],
   "source": [
    "model = LinearRegression()\n",
    "  \n",
    "# fitting the data\n",
    "model.fit(X_b, y)\n",
    "  \n",
    "# predicting values\n",
    "y_pred = model.predict(X_b)\n",
    "df = pd.DataFrame({'Actual': y, 'Predicted': y_pred})\n",
    "\n",
    "residual = np.sum(np.square(df['Predicted'] - df['Actual']))\n",
    "\n",
    "print(' residual sum of squares is : '+ str(np.sum(np.square(df['Predicted'] - df['Actual']))))"
   ]
  },
  {
   "cell_type": "code",
   "execution_count": 473,
   "id": "da981c79",
   "metadata": {},
   "outputs": [
    {
     "data": {
      "text/plain": [
       "1.337380547457587"
      ]
     },
     "execution_count": 473,
     "metadata": {},
     "output_type": "execute_result"
    }
   ],
   "source": [
    "import scipy.stats\n",
    "scipy.stats.f.ppf(q=1-0.05, dfn=len(y_pred)-1, dfd=len(y_pred)-1)"
   ]
  },
  {
   "cell_type": "code",
   "execution_count": 475,
   "id": "28497d29",
   "metadata": {},
   "outputs": [
    {
     "data": {
      "text/plain": [
       "1.4787262598239075"
      ]
     },
     "execution_count": 475,
     "metadata": {},
     "output_type": "execute_result"
    }
   ],
   "source": [
    "F_stats = residual/residual_SS\n",
    "F_stats"
   ]
  },
  {
   "cell_type": "code",
   "execution_count": 477,
   "id": "f39e511b",
   "metadata": {},
   "outputs": [
    {
     "data": {
      "text/plain": [
       "0.01384786482912781"
      ]
     },
     "execution_count": 477,
     "metadata": {},
     "output_type": "execute_result"
    }
   ],
   "source": [
    "p = 1-scipy.stats.f.cdf(F_stats, len(y_pred)-1, len(y_pred)-1)\n",
    "p"
   ]
  },
  {
   "cell_type": "code",
   "execution_count": 478,
   "id": "b14ef654",
   "metadata": {},
   "outputs": [
    {
     "name": "stdout",
     "output_type": "stream",
     "text": [
      "The F-test statistic is:  1.4787262598239075 with degrees of freedom  ( 128 ,  128 ) , and the significance level is:  0.01384786482912781\n"
     ]
    }
   ],
   "source": [
    "print(\"The F-test statistic is: \", F_stats, \"with degrees of freedom \", \"(\", len(y_pred)-1, \", \", len(y_pred)-1, \")\", \", and the significance level is: \", p)"
   ]
  },
  {
   "cell_type": "markdown",
   "id": "1d5667aa",
   "metadata": {},
   "source": [
    "**We can reject the null hypothesis and conclude that CPI does affect the IJC**"
   ]
  },
  {
   "cell_type": "markdown",
   "id": "3414ea8a",
   "metadata": {},
   "source": [
    "## Question 6"
   ]
  },
  {
   "cell_type": "code",
   "execution_count": 498,
   "id": "87e6f277",
   "metadata": {},
   "outputs": [
    {
     "data": {
      "text/html": [
       "<div>\n",
       "<style scoped>\n",
       "    .dataframe tbody tr th:only-of-type {\n",
       "        vertical-align: middle;\n",
       "    }\n",
       "\n",
       "    .dataframe tbody tr th {\n",
       "        vertical-align: top;\n",
       "    }\n",
       "\n",
       "    .dataframe thead th {\n",
       "        text-align: right;\n",
       "    }\n",
       "</style>\n",
       "<table border=\"1\" class=\"dataframe\">\n",
       "  <thead>\n",
       "    <tr style=\"text-align: right;\">\n",
       "      <th></th>\n",
       "      <th>Intercept</th>\n",
       "      <th>Period_3</th>\n",
       "      <th>Period_2</th>\n",
       "      <th>Period_1</th>\n",
       "      <th>CPI</th>\n",
       "    </tr>\n",
       "  </thead>\n",
       "  <tbody>\n",
       "    <tr>\n",
       "      <th>0</th>\n",
       "      <td>1.0</td>\n",
       "      <td>0.0</td>\n",
       "      <td>0.0</td>\n",
       "      <td>1.0</td>\n",
       "      <td>5.428652</td>\n",
       "    </tr>\n",
       "    <tr>\n",
       "      <th>1</th>\n",
       "      <td>1.0</td>\n",
       "      <td>0.0</td>\n",
       "      <td>0.0</td>\n",
       "      <td>1.0</td>\n",
       "      <td>5.430788</td>\n",
       "    </tr>\n",
       "    <tr>\n",
       "      <th>2</th>\n",
       "      <td>1.0</td>\n",
       "      <td>0.0</td>\n",
       "      <td>0.0</td>\n",
       "      <td>1.0</td>\n",
       "      <td>5.432879</td>\n",
       "    </tr>\n",
       "    <tr>\n",
       "      <th>3</th>\n",
       "      <td>1.0</td>\n",
       "      <td>0.0</td>\n",
       "      <td>0.0</td>\n",
       "      <td>1.0</td>\n",
       "      <td>5.434538</td>\n",
       "    </tr>\n",
       "    <tr>\n",
       "      <th>4</th>\n",
       "      <td>1.0</td>\n",
       "      <td>0.0</td>\n",
       "      <td>0.0</td>\n",
       "      <td>1.0</td>\n",
       "      <td>5.432468</td>\n",
       "    </tr>\n",
       "    <tr>\n",
       "      <th>...</th>\n",
       "      <td>...</td>\n",
       "      <td>...</td>\n",
       "      <td>...</td>\n",
       "      <td>...</td>\n",
       "      <td>...</td>\n",
       "    </tr>\n",
       "    <tr>\n",
       "      <th>125</th>\n",
       "      <td>1.0</td>\n",
       "      <td>1.0</td>\n",
       "      <td>0.0</td>\n",
       "      <td>0.0</td>\n",
       "      <td>5.688087</td>\n",
       "    </tr>\n",
       "    <tr>\n",
       "      <th>126</th>\n",
       "      <td>1.0</td>\n",
       "      <td>1.0</td>\n",
       "      <td>0.0</td>\n",
       "      <td>0.0</td>\n",
       "      <td>5.687894</td>\n",
       "    </tr>\n",
       "    <tr>\n",
       "      <th>127</th>\n",
       "      <td>1.0</td>\n",
       "      <td>1.0</td>\n",
       "      <td>0.0</td>\n",
       "      <td>0.0</td>\n",
       "      <td>5.689075</td>\n",
       "    </tr>\n",
       "    <tr>\n",
       "      <th>128</th>\n",
       "      <td>1.0</td>\n",
       "      <td>1.0</td>\n",
       "      <td>0.0</td>\n",
       "      <td>0.0</td>\n",
       "      <td>5.692927</td>\n",
       "    </tr>\n",
       "    <tr>\n",
       "      <th>129</th>\n",
       "      <td>1.0</td>\n",
       "      <td>1.0</td>\n",
       "      <td>0.0</td>\n",
       "      <td>0.0</td>\n",
       "      <td>5.697302</td>\n",
       "    </tr>\n",
       "  </tbody>\n",
       "</table>\n",
       "<p>130 rows × 5 columns</p>\n",
       "</div>"
      ],
      "text/plain": [
       "     Intercept  Period_3  Period_2  Period_1       CPI\n",
       "0          1.0       0.0       0.0       1.0  5.428652\n",
       "1          1.0       0.0       0.0       1.0  5.430788\n",
       "2          1.0       0.0       0.0       1.0  5.432879\n",
       "3          1.0       0.0       0.0       1.0  5.434538\n",
       "4          1.0       0.0       0.0       1.0  5.432468\n",
       "..         ...       ...       ...       ...       ...\n",
       "125        1.0       1.0       0.0       0.0  5.688087\n",
       "126        1.0       1.0       0.0       0.0  5.687894\n",
       "127        1.0       1.0       0.0       0.0  5.689075\n",
       "128        1.0       1.0       0.0       0.0  5.692927\n",
       "129        1.0       1.0       0.0       0.0  5.697302\n",
       "\n",
       "[130 rows x 5 columns]"
      ]
     },
     "execution_count": 498,
     "metadata": {},
     "output_type": "execute_result"
    }
   ],
   "source": [
    "X.loc[len(X.index)] = [1, 1, 0, 0, math.log(298.062)] \n",
    "X"
   ]
  },
  {
   "cell_type": "code",
   "execution_count": 499,
   "id": "277e293e",
   "metadata": {},
   "outputs": [
    {
     "data": {
      "text/plain": [
       "0      12.881064\n",
       "1      12.867496\n",
       "2      12.854208\n",
       "3      12.843663\n",
       "4      12.856819\n",
       "         ...    \n",
       "125    12.288414\n",
       "126    12.289640\n",
       "127    12.282134\n",
       "128    12.257655\n",
       "129    12.229859\n",
       "Length: 130, dtype: float64"
      ]
     },
     "execution_count": 499,
     "metadata": {},
     "output_type": "execute_result"
    }
   ],
   "source": [
    "df_yhat = X.dot(estimate)\n",
    "df_yhat"
   ]
  },
  {
   "cell_type": "code",
   "execution_count": 574,
   "id": "9ff7a344",
   "metadata": {},
   "outputs": [
    {
     "data": {
      "text/plain": [
       "12.229858891340308"
      ]
     },
     "execution_count": 574,
     "metadata": {},
     "output_type": "execute_result"
    }
   ],
   "source": [
    "yhat_new = df_yhat[len(df_yhat) - 1].astype(float)\n",
    "yhat_new"
   ]
  },
  {
   "cell_type": "code",
   "execution_count": 575,
   "id": "0efe3158",
   "metadata": {},
   "outputs": [
    {
     "name": "stdout",
     "output_type": "stream",
     "text": [
      "The predicted IJC of Oct 2022 is: 204814.2789884431\n"
     ]
    }
   ],
   "source": [
    "pred_origin = pow(math.e, yhat_new)\n",
    "pred_origin\n",
    "print(\"The predicted IJC of Oct 2022 is:\", pred_origin)"
   ]
  },
  {
   "attachments": {},
   "cell_type": "markdown",
   "id": "d1e21b15",
   "metadata": {},
   "source": [
    "**𝑁_𝑛 (𝐗𝐛,𝜎^2 𝐗(𝐗^𝑡 𝐗)^(−1) 𝐗^𝑡 )**"
   ]
  },
  {
   "cell_type": "code",
   "execution_count": 576,
   "id": "7434ca8a",
   "metadata": {},
   "outputs": [
    {
     "data": {
      "text/html": [
       "<div>\n",
       "<style scoped>\n",
       "    .dataframe tbody tr th:only-of-type {\n",
       "        vertical-align: middle;\n",
       "    }\n",
       "\n",
       "    .dataframe tbody tr th {\n",
       "        vertical-align: top;\n",
       "    }\n",
       "\n",
       "    .dataframe thead th {\n",
       "        text-align: right;\n",
       "    }\n",
       "</style>\n",
       "<table border=\"1\" class=\"dataframe\">\n",
       "  <thead>\n",
       "    <tr style=\"text-align: right;\">\n",
       "      <th></th>\n",
       "      <th>Intercept</th>\n",
       "      <th>Period_3</th>\n",
       "      <th>Period_2</th>\n",
       "      <th>Period_1</th>\n",
       "      <th>CPI</th>\n",
       "    </tr>\n",
       "  </thead>\n",
       "  <tbody>\n",
       "    <tr>\n",
       "      <th>129</th>\n",
       "      <td>1.0</td>\n",
       "      <td>1.0</td>\n",
       "      <td>0.0</td>\n",
       "      <td>0.0</td>\n",
       "      <td>5.697302</td>\n",
       "    </tr>\n",
       "  </tbody>\n",
       "</table>\n",
       "</div>"
      ],
      "text/plain": [
       "     Intercept  Period_3  Period_2  Period_1       CPI\n",
       "129        1.0       1.0       0.0       0.0  5.697302"
      ]
     },
     "execution_count": 576,
     "metadata": {},
     "output_type": "execute_result"
    }
   ],
   "source": [
    "aa = X[-1:]\n",
    "aa"
   ]
  },
  {
   "cell_type": "code",
   "execution_count": 577,
   "id": "05bd06c4",
   "metadata": {},
   "outputs": [
    {
     "data": {
      "text/plain": [
       "0.06207747940416741"
      ]
     },
     "execution_count": 577,
     "metadata": {},
     "output_type": "execute_result"
    }
   ],
   "source": [
    "a = np.linalg.inv(X.T.dot(X))\n",
    "b = aa.dot(a)\n",
    "proj = b.dot(aa.T.to_numpy()).values\n",
    "proj = proj[0][0].astype(float)\n",
    "proj"
   ]
  },
  {
   "cell_type": "markdown",
   "id": "1928bd65",
   "metadata": {},
   "source": [
    "**We can use the residual_SS in question 2 as 𝜎^2**"
   ]
  },
  {
   "cell_type": "code",
   "execution_count": 590,
   "id": "13e2a0cc",
   "metadata": {},
   "outputs": [
    {
     "data": {
      "text/plain": [
       "1.9792801165796825"
      ]
     },
     "execution_count": 590,
     "metadata": {},
     "output_type": "execute_result"
    }
   ],
   "source": [
    "from scipy.stats import t\n",
    "dof = len(y) - 5\n",
    "t_critical = t.ppf(0.975, df = dof)\n",
    "t_critical"
   ]
  },
  {
   "cell_type": "code",
   "execution_count": 594,
   "id": "966206b8",
   "metadata": {},
   "outputs": [
    {
     "name": "stdout",
     "output_type": "stream",
     "text": [
      "The confidence interval of original mean prediction is: ( 174790.49175115686 ,  239995.25636255418 )\n"
     ]
    }
   ],
   "source": [
    "rss = residual_SS.astype(float)\n",
    "c = t_critical * math.sqrt(rss/dof * proj)\n",
    "ci_lower = yhat_new - c\n",
    "ci_upper = yhat_new + c\n",
    "ori_ci_lower = pow(math.e, ci_lower)\n",
    "ori_ci_upper = pow(math.e, ci_upper)\n",
    "print(\"The confidence interval of original mean prediction is: (\", ori_ci_lower, \", \", ori_ci_upper, \")\")"
   ]
  },
  {
   "cell_type": "markdown",
   "id": "d068f19e",
   "metadata": {},
   "source": [
    "## Question 7"
   ]
  },
  {
   "cell_type": "code",
   "execution_count": 365,
   "id": "4c8e864c",
   "metadata": {},
   "outputs": [
    {
     "data": {
      "text/plain": [
       "array([ 372000,  365000,  358000,  372000,  381000,  372000,  372000,\n",
       "        377000,  376000,  364000,  388000,  362000,  366000,  342000,\n",
       "        375000,  331000,  353000,  340000,  334000,  325000,  319000,\n",
       "        347000,  312000,  332000,  340000,  341000,  330000,  345000,\n",
       "        312000,  308000,  303000,  303000,  290000,  291000,  291000,\n",
       "        285000,  281000,  317000,  269000,  269000,  275000,  275000,\n",
       "        269000,  279000,  272000,  275000,  265000,  276000,  282000,\n",
       "        269000,  271000,  278000,  263000,  262000,  266000,  261000,\n",
       "        247000,  265000,  255000,  244000,  241000,  221000,  236000,\n",
       "        232000,  253000,  247000,  245000,  247000,  260000,  241000,\n",
       "        243000,  248000,  223000,  202000,  205000,  200000,  224000,\n",
       "        241000,  222000,  225000,  221000,  225000,  244000,  237000,\n",
       "        227000,  204000,  173000,  210000,  222000,  240000,  220000,\n",
       "        224000,  224000,  230000,  221000,  235000,  200000,  190000,\n",
       "       5946000, 3446000, 1639000, 1446000, 1260000,  881000,  795000,\n",
       "        773000,  737000,  773000,  803000,  704000,  658000,  574000,\n",
       "        427000,  405000,  414000,  381000,  376000,  280000,  240000,\n",
       "        211000,  214000,  182000,  171000,  202000,  202000,  231000,\n",
       "        248000,  228000,  190000], dtype=int64)"
      ]
     },
     "execution_count": 365,
     "metadata": {},
     "output_type": "execute_result"
    }
   ],
   "source": [
    "y_IJC"
   ]
  },
  {
   "cell_type": "code",
   "execution_count": 366,
   "id": "03fdea8d",
   "metadata": {},
   "outputs": [
    {
     "data": {
      "text/plain": [
       "406193.7984496124"
      ]
     },
     "execution_count": 366,
     "metadata": {},
     "output_type": "execute_result"
    }
   ],
   "source": [
    "observed_bar = y_IJC.mean()\n",
    "observed_bar"
   ]
  },
  {
   "cell_type": "code",
   "execution_count": 367,
   "id": "0bfaaf58",
   "metadata": {},
   "outputs": [],
   "source": [
    "X = X[:-1]"
   ]
  },
  {
   "cell_type": "code",
   "execution_count": 371,
   "id": "f455d5c4",
   "metadata": {},
   "outputs": [
    {
     "data": {
      "text/plain": [
       "array([ 392803.19623504,  387509.80560336,  382394.36294749,\n",
       "        378383.40594285,  383394.12505474,  385413.45567116,\n",
       "        384706.89704234,  370803.71470123,  359756.24764153,\n",
       "        353652.01924892,  357449.29716474,  357724.43879815,\n",
       "        353254.51856143,  341305.70164833,  347467.66644108,\n",
       "        352113.37473585,  351188.13320874,  345922.28088634,\n",
       "        341650.3933297 ,  336512.87137663,  335707.96037124,\n",
       "        334568.4483002 ,  330673.59600361,  325171.26218601,\n",
       "        320206.66515629,  317975.94764172,  313880.72743346,\n",
       "        310187.95711201,  306463.16713688,  303902.88577257,\n",
       "        301738.42611002,  302045.38493709,  301908.016597  ,\n",
       "        302287.97616134,  305929.43191039,  311994.4515188 ,\n",
       "        324924.88427579,  319740.08289549,  314320.49853196,\n",
       "        312246.31532028,  305781.81857528,  300457.9554452 ,\n",
       "        297446.92433765,  297454.86483137,  301738.42611002,\n",
       "        299848.12871163,  297581.94610231,  299623.81689977,\n",
       "        300498.12592414,  303049.55686608,  297081.92668572,\n",
       "        289951.37508084,  285633.26613951,  280645.9102458 ,\n",
       "        281545.83541774,  278259.88944715,  273666.05732779,\n",
       "        269627.06833011,  267615.90336994,  263362.47201515,\n",
       "        256695.87646312,  254113.18843801,  254868.88648443,\n",
       "        252879.18712363,  254126.42393016,  253076.68737716,\n",
       "        252550.41630477,  246460.65486224,  238611.61843794,\n",
       "        237439.81155912,  233453.59511711,  230352.21763004,\n",
       "        224887.94773984,  220930.29010563,  220132.7713086 ,\n",
       "        216992.37508555,  213535.42262282,  211710.29701731,\n",
       "        210615.36885653,  208360.94719501,  205802.28854844,\n",
       "        202601.46904367,  203648.30560655,  204192.051391  ,\n",
       "        204608.68798934,  201217.0435759 ,  195562.77846626,\n",
       "        191268.64995344,  190498.81411452,  190328.22684889,\n",
       "        187795.17760332,  186499.34374078,  184581.80281854,\n",
       "        181373.65434438,  179225.07708655,  177140.7660093 ,\n",
       "        976279.63147745,  968521.49021742,  988769.75167773,\n",
       "       1040692.42345365, 1044574.10997848, 1012156.02889333,\n",
       "        979619.67158281,  955016.41228625,  940878.17486724,\n",
       "        937164.23907142,  928767.87838165,  909910.50283635,\n",
       "        462520.68372805,  449879.07772703,  432041.87449899,\n",
       "        414850.05231434,  396817.13037661,  375396.15337815,\n",
       "        364754.66822319,  357116.59666491,  347932.66877386,\n",
       "        329371.83144003,  315106.43999769,  303829.48528942,\n",
       "        291665.77823335,  277305.737444  ,  256406.49014309,\n",
       "        251063.72033059,  236069.8134471 ,  217165.1881264 ,\n",
       "        217431.71378842,  215805.74437497,  210587.26749324])"
      ]
     },
     "execution_count": 371,
     "metadata": {},
     "output_type": "execute_result"
    }
   ],
   "source": [
    "pred_IJC = pow(math.e, X.dot(estimate))\n",
    "pred_IJC = pred_IJC.to_numpy()\n",
    "pred_IJC"
   ]
  },
  {
   "cell_type": "code",
   "execution_count": 372,
   "id": "5dcf53f5",
   "metadata": {},
   "outputs": [],
   "source": [
    "rel_error = sum(np.square(y_IJC - pred_IJC)) / sum(np.square(y_IJC - observed_bar))"
   ]
  },
  {
   "cell_type": "code",
   "execution_count": 374,
   "id": "6b2458c2",
   "metadata": {},
   "outputs": [
    {
     "name": "stdout",
     "output_type": "stream",
     "text": [
      "The relative error is:  0.6997043214964035\n"
     ]
    }
   ],
   "source": [
    "print(\"The relative error is: \", rel_error)"
   ]
  }
 ],
 "metadata": {
  "kernelspec": {
   "display_name": "Python 3 (ipykernel)",
   "language": "python",
   "name": "python3"
  },
  "language_info": {
   "codemirror_mode": {
    "name": "ipython",
    "version": 3
   },
   "file_extension": ".py",
   "mimetype": "text/x-python",
   "name": "python",
   "nbconvert_exporter": "python",
   "pygments_lexer": "ipython3",
   "version": "3.9.13"
  }
 },
 "nbformat": 4,
 "nbformat_minor": 5
}
